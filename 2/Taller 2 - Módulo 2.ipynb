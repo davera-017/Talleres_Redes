{
 "cells": [
  {
   "cell_type": "markdown",
   "metadata": {},
   "source": [
    "<img src=\"https://upload.wikimedia.org/wikipedia/commons/thumb/4/47/University_of_Los_Andes_logo.svg/1200px-University_of_Los_Andes_logo.svg.png\" width=\"70\" align=\"left\"> \n",
    "  <h1> DEPARTAMENTO DE INGENIERIA INDUSTRIAL <br>\n",
    "  Estrucuturación de Redes Sociales 202120 <br> </h1>\n",
    " \n",
    " **PROFESORES:** Felipe Montes - Andrés Felipe Usceche - Gianfranco Vietto - Ana María Guerra - Martha Blanco - Ana María Jaramillo"
   ]
  },
  {
   "cell_type": "markdown",
   "metadata": {},
   "source": [
    "<center> <bold> Integrantes </bold> </center>\n",
    "\n",
    "|Apellidos|Nombres|Código|Login|\n",
    "|:---:|:---:|:---:|:---:|\n",
    "|*Ávila Vera*|*Daniel*|*201530842*|*da.avila*|\n",
    "|*Apellidos 2*|*Nombres 2*|*Código 2*|*login 2*|"
   ]
  },
  {
   "cell_type": "markdown",
   "metadata": {},
   "source": [
    "<h1><center> Taller 2 </center></h1>\n",
    "<h2><center>Diferenciar métodos para recolectar información de redes</center></h2>"
   ]
  },
  {
   "cell_type": "markdown",
   "metadata": {},
   "source": [
    "Esta actividad va a estar basada en el estudio realizado por Mendoza-Palechor y de la Hoz-Manotas (2019). Esta base de datos recopila información de 2111 niñ@s de Colombia, Perú y México. Para estos niñ@s se realizó una estimación de los niveles de obesidad basado en hábitos de comida y sus condiciones de actividad física. \n",
    "En este ejercicio vamos a comparar la diferencia entre dos metodologías de muestreo. La primera es el muestreo aleatorio y la segunda es el muestreo por bola de nieve en redes. El objetivo de esta actividad es entender la importancia del muestreo en redes para capturar las relaciones y la estructura de la red a diferencia de las metodologías de muestreo estadístico que lo que buscan es representatividad muestral.\n",
    "\n",
    "Suponga que un grupo de la OMS le ha encargado analizar desde la perspectiva de las redes sociales la muestra del estudio de Mendoza-Palechor y de la Hoz-Manotas. Quieren que usted realice un estudio que permita determinar cuáles son los niños más influenciadores que puedan ser utilizados para compartir un programa de actividad física con sus compañeros. El problema con el equipo es que no tiene suficiente presupuesto para preguntarle a cada uno de los niños cuáles son sus amigos. Por lo tanto, le han pedido que cree una muestra a partir de la población de niños y con base en esa muestra realice el análisis de redes para determinar a los niños más influenciadores. Para esto, usted se ha propuesto seguir los siguientes pasos para cumplir el requerimiento."
   ]
  },
  {
   "cell_type": "code",
   "execution_count": 213,
   "metadata": {
    "ExecuteTime": {
     "end_time": "2021-09-10T18:32:28.611930Z",
     "start_time": "2021-09-10T18:32:28.603711Z"
    }
   },
   "outputs": [],
   "source": [
    "## Librerías a usar\n",
    "import networkx as nx\n",
    "import pandas as pd\n",
    "import matplotlib.pyplot as plt\n",
    "import random\n",
    "import math\n",
    "from scipy.stats import norm"
   ]
  },
  {
   "cell_type": "code",
   "execution_count": 214,
   "metadata": {
    "ExecuteTime": {
     "end_time": "2021-09-10T18:32:29.386490Z",
     "start_time": "2021-09-10T18:32:29.321214Z"
    }
   },
   "outputs": [],
   "source": [
    "## Cargar la red\n",
    "nodos=pd.read_csv(\"./nodos_base.csv\",index_col=\"id\")\n",
    "arcos=pd.read_csv(\"./arcos_base.csv\")"
   ]
  },
  {
   "cell_type": "markdown",
   "metadata": {},
   "source": [
    "1.\tDada la restricción presupuestal, usted sabe que lo primero que hay que hacer es determinar el tamaño de la muestra. Un aspecto relevante que le han solicitado es que la muestra que usted seleccione mantenga las proporciones de sexo de la población total. Calcule el tamaño de la muestra utilizando como referencia un nivel de confianza del 5% y un margen de error del 5%."
   ]
  },
  {
   "cell_type": "code",
   "execution_count": 215,
   "metadata": {
    "ExecuteTime": {
     "end_time": "2021-09-10T18:32:31.098060Z",
     "start_time": "2021-09-10T18:32:31.089003Z"
    }
   },
   "outputs": [
    {
     "name": "stdout",
     "output_type": "stream",
     "text": [
      "0.49407863571766936\n"
     ]
    }
   ],
   "source": [
    "# Proporción de mujeres\n",
    "perc_m = nodos[nodos.Gender == 'Female'].shape[0]/nodos.shape[0]\n",
    "print(perc_m)"
   ]
  },
  {
   "cell_type": "code",
   "execution_count": 216,
   "metadata": {
    "ExecuteTime": {
     "end_time": "2021-09-10T18:32:32.214933Z",
     "start_time": "2021-09-10T18:32:32.204480Z"
    }
   },
   "outputs": [
    {
     "name": "stdout",
     "output_type": "stream",
     "text": [
      "270\n"
     ]
    }
   ],
   "source": [
    "#Tamaño de la muestra\n",
    "p = perc_m\n",
    "q = 1-p\n",
    "e = 0.05\n",
    "alpha = 0.05\n",
    "Z = norm.ppf(alpha)\n",
    "n = ((Z**2)*p*q)/(e**2)\n",
    "sample_size = math.floor(n)\n",
    "print(sample_size)"
   ]
  },
  {
   "cell_type": "markdown",
   "metadata": {},
   "source": [
    "2.\tEl grupo de la OMS no está seguro sobre la relevancia de utilizar metodologías de muestreo en redes y cree que la mejor estrategia es realizar un muestro estratificado de acuerdo al sexo. Por lo cual le han solicitado que diseñe una muestra que cumpla las especificaciones del tamaño muestral. ¿Cuál es la edad promedio de los niños y las niñas en la muestra?"
   ]
  },
  {
   "cell_type": "code",
   "execution_count": 217,
   "metadata": {
    "ExecuteTime": {
     "end_time": "2021-09-10T18:32:43.705012Z",
     "start_time": "2021-09-10T18:32:43.688929Z"
    }
   },
   "outputs": [],
   "source": [
    "proportions = {'Female':perc_m, 'Male':1-perc_m}\n",
    "dfs = []\n",
    "for sex in proportions:\n",
    "    sub_sample_size = round(sample_size*proportions[sex])\n",
    "    sample_temp = nodos[nodos.Gender == sex].sample(n=sub_sample_size, random_state=2)\n",
    "    dfs.append(sample_temp)\n",
    "    \n",
    "stratified_sample = pd.concat(dfs)"
   ]
  },
  {
   "cell_type": "code",
   "execution_count": 218,
   "metadata": {
    "ExecuteTime": {
     "end_time": "2021-09-10T18:32:46.237727Z",
     "start_time": "2021-09-10T18:32:46.227080Z"
    }
   },
   "outputs": [
    {
     "name": "stdout",
     "output_type": "stream",
     "text": [
      "23.4205849849624\n"
     ]
    }
   ],
   "source": [
    "#promedio edad muestra mujeres\n",
    "m_age_mean = stratified_sample[stratified_sample.Gender == 'Female'].Age.mean()\n",
    "print(m_age_mean)"
   ]
  },
  {
   "cell_type": "code",
   "execution_count": 219,
   "metadata": {
    "ExecuteTime": {
     "end_time": "2021-09-10T18:32:47.923833Z",
     "start_time": "2021-09-10T18:32:47.914878Z"
    }
   },
   "outputs": [
    {
     "name": "stdout",
     "output_type": "stream",
     "text": [
      "24.862211766423354\n"
     ]
    }
   ],
   "source": [
    "#promedio edad muestra hombres\n",
    "h_age_mean = stratified_sample[stratified_sample.Gender == 'Male'].Age.mean()\n",
    "print(h_age_mean)"
   ]
  },
  {
   "cell_type": "markdown",
   "metadata": {},
   "source": [
    "3.\tDado que usted ya seleccionó su muestra, ahora va a reconstruir la red de estos niños. Para esto, usted le ha preguntado a cada uno de los niños en la muestra que le mencione al a lo sumo 20 de sus amigos con los que pasa la mayoría del tiempo. Esa información ya fue recopilada y se encuentra en el archivo de arcos (por simplicidad usted tiene la información de los arcos de todos los niños). De acuerdo al grado total, ¿quiénes son los 5 niños con mayor número de conexiones?"
   ]
  },
  {
   "cell_type": "code",
   "execution_count": 220,
   "metadata": {
    "ExecuteTime": {
     "end_time": "2021-09-10T18:32:49.756685Z",
     "start_time": "2021-09-10T18:32:49.498447Z"
    }
   },
   "outputs": [],
   "source": [
    "## Construir Red\n",
    "G = nx.DiGraph()\n",
    "G.add_edges_from(list(arcos.to_records(index=False)))"
   ]
  },
  {
   "cell_type": "code",
   "execution_count": 221,
   "metadata": {
    "ExecuteTime": {
     "end_time": "2021-09-10T18:32:50.638893Z",
     "start_time": "2021-09-10T18:32:50.619761Z"
    }
   },
   "outputs": [
    {
     "name": "stdout",
     "output_type": "stream",
     "text": [
      "[(358, 42), (704, 38), (58, 37), (1711, 37), (1486, 36)]\n"
     ]
    }
   ],
   "source": [
    "# Top 5 degree\n",
    "print(sorted(G.degree, key=lambda x: x[1], reverse=True)[:5])"
   ]
  },
  {
   "cell_type": "markdown",
   "metadata": {},
   "source": [
    "4.\tUsted recuerda que en el curso de Estructuración de Redes Sociales le enseñaron que el muestro estadístico tiene problemas a la hora de capturar las redes de los niños. Por lo tanto, usted le ha propuesto realizar de manera paralela al grupo de la OMS un muestreo por bola de nieve. El equipo aceptó su propuesta, sin embargo, le solicitaron que el número de niñ@s que capturara el muestro no fuera superior al tamaño de la muestra determinado previamente. ¿Cuál es la edad promedio de los niños y las niñas en la nueva muestra?"
   ]
  },
  {
   "cell_type": "code",
   "execution_count": 222,
   "metadata": {
    "ExecuteTime": {
     "end_time": "2021-09-10T18:32:54.876010Z",
     "start_time": "2021-09-10T18:32:54.841701Z"
    },
    "code_folding": []
   },
   "outputs": [
    {
     "name": "stdout",
     "output_type": "stream",
     "text": [
      "256\n"
     ]
    }
   ],
   "source": [
    "#Bola de Nieve\n",
    "nodos_sample = nodos.sample(2, random_state=1)\n",
    "arcos_sample = arcos[arcos.Source.isin(nodos_sample.index)]\n",
    "\n",
    "while True: \n",
    "    nuevos_nodos = nodos[nodos.index.isin(arcos_sample.Target.unique())]\n",
    "    nodos_sample_temp= nodos_sample.copy().append(nuevos_nodos).drop_duplicates()\n",
    "    if nodos_sample_temp.shape[0] >270:\n",
    "        break\n",
    "    else:\n",
    "        nodos_sample = nodos_sample_temp\n",
    "        arcos_sample = arcos[arcos.Source.isin(nodos_sample.index)]\n",
    "\n",
    "print(nodos_sample.shape[0])        "
   ]
  },
  {
   "cell_type": "code",
   "execution_count": 223,
   "metadata": {
    "ExecuteTime": {
     "end_time": "2021-09-10T18:32:56.461740Z",
     "start_time": "2021-09-10T18:32:56.453095Z"
    }
   },
   "outputs": [
    {
     "name": "stdout",
     "output_type": "stream",
     "text": [
      "24.521023347457625\n"
     ]
    }
   ],
   "source": [
    "#Edad promedio niñas\n",
    "m_age_mean = nodos_sample[nodos_sample.Gender == 'Female'].Age.mean()\n",
    "print(m_age_mean)"
   ]
  },
  {
   "cell_type": "code",
   "execution_count": 224,
   "metadata": {
    "ExecuteTime": {
     "end_time": "2021-09-10T18:32:57.718493Z",
     "start_time": "2021-09-10T18:32:57.708825Z"
    }
   },
   "outputs": [
    {
     "name": "stdout",
     "output_type": "stream",
     "text": [
      "24.28387237681159\n"
     ]
    }
   ],
   "source": [
    "#Edad promedio niños\n",
    "h_age_mean = nodos_sample[nodos_sample.Gender == 'Male'].Age.mean()\n",
    "print(h_age_mean)"
   ]
  },
  {
   "cell_type": "markdown",
   "metadata": {},
   "source": [
    "5.\tUsted va a replicar el ejercicio de reconstruir la red de los niños con esta nueva muestra. De acuerdo con el grado total, ¿quiénes son los 5 niños con mayor número de conexiones?"
   ]
  },
  {
   "cell_type": "code",
   "execution_count": 195,
   "metadata": {
    "ExecuteTime": {
     "end_time": "2021-09-10T05:36:19.626588Z",
     "start_time": "2021-09-10T05:36:19.559457Z"
    }
   },
   "outputs": [],
   "source": [
    "## Construir Red\n",
    "G = nx.DiGraph()\n",
    "G.add_edges_from(list(arcos_sample.to_records(index=False)))"
   ]
  },
  {
   "cell_type": "code",
   "execution_count": 196,
   "metadata": {
    "ExecuteTime": {
     "end_time": "2021-09-10T05:36:20.008788Z",
     "start_time": "2021-09-10T05:36:19.988894Z"
    }
   },
   "outputs": [
    {
     "name": "stdout",
     "output_type": "stream",
     "text": [
      "[(1490, 25), (718, 24), (1527, 23), (1704, 23), (1743, 23)]\n"
     ]
    }
   ],
   "source": [
    "# Top 5 degree\n",
    "print(sorted(G.degree, key=lambda x: x[1], reverse=True)[:5])"
   ]
  },
  {
   "cell_type": "markdown",
   "metadata": {},
   "source": [
    "6.\tEl grupo de la OMS está complacido con los resultados, sin embargo, le han hecho la siguiente pregunta: ¿cuáles de los niños más influenciadores debería elegir: los del muestreo estadístico o los del muestreo en redes? Justifique su respuesta argumentado con base en algunas de las métricas de cada una de las redes."
   ]
  },
  {
   "cell_type": "code",
   "execution_count": 225,
   "metadata": {
    "ExecuteTime": {
     "end_time": "2021-09-10T18:37:51.691073Z",
     "start_time": "2021-09-10T18:37:51.673685Z"
    }
   },
   "outputs": [],
   "source": [
    "# Escriba aquí su respuesta"
   ]
  },
  {
   "cell_type": "markdown",
   "metadata": {},
   "source": [
    "\n",
    "\n",
    "Deberían elegir a los niños más influenciadores del muestro por bola de nieve. Esto se debe a que los vínculos entre los niños no siguen una distribución normal, por lo que asumir que todos tienen el mismo peso –como sucede en el muestreo estadístico– puede llegar a oscurecer a los actores centrales de esta red de relaciones. Por el contrario, el muestreo por bola de nieve facilita la captura de aquellos nodos que resaltan por su cantidad de relaciones en la red. \n"
   ]
  },
  {
   "cell_type": "markdown",
   "metadata": {},
   "source": [
    "7.\tExporte la red generada por el método de bola de nieve para realizar los siguintes pasos en Gephi:"
   ]
  },
  {
   "cell_type": "code",
   "execution_count": 133,
   "metadata": {
    "ExecuteTime": {
     "end_time": "2021-09-10T05:26:12.179614Z",
     "start_time": "2021-09-10T05:26:12.082798Z"
    }
   },
   "outputs": [],
   "source": [
    "## Exporten aquí\n",
    "nodos_sample.to_csv('nodos_snowball.csv')\n",
    "arcos_sample.to_csv('arcos_snowball.csv')"
   ]
  },
  {
   "cell_type": "markdown",
   "metadata": {},
   "source": [
    "1.\tDeberán cargar datos de las aristas en un nuevo proyecto en Gephi. No olviden que deben identificar si la red es dirigida o no y justificar porqué.\n",
    "\n",
    "2.\tVisualicen la red bajo un algoritmo, el que ustedes prefieran, y muestren como es esta primera visualización. (Deben exportarlo mediante la herramienta de previsualización)\n",
    "\n",
    "Para nuestro estudio, queremos detectar si existen grupos entre los niños. Para esto vamos a usar el concepto de detección de comunidades. Una de las maneras de detectar comunidades es mediante la maximización del coeficiente de modularidad utilizando el algoritmo de Louvain. Dicho algoritmo consiste en asignar los nodos a comunidades de tal forma que se maximice la función de modularidad. La función de modularidad evalúa la proporción de arcos entre nodos que se encuentran en la misma comunidad con respecto a haber cconectado los nodos de manera aleatoria. \n",
    "•\tPara más información sobre el algoritmo de Louvain referirse al artículo disponible en: https://arxiv.org/pdf/0803.0476.pdf o al artículo de Wikipedia https://es.wikipedia.org/wiki/M%C3%A9todo_de_Louvain . \n",
    "•\tPara mayor información acerca de la modularidad favor referirse al capítulo 7.7.1. del libro de Newman.\n",
    "\n",
    "Con lo anterior en mente, realicen el siguiente estudio en la red.\n",
    "\n",
    "3.\tCalculen la modularidad de toda la red y muestren el reporte de modularidad. <br>\n",
    "    a.\t¿Cuánto es la modularidad de la red? ¿Cómo interpretarían ese valor?<br>\n",
    "    b.\t¿Cuántas comunidades se identifican en la red?<br>\n",
    "\n",
    "4.\tVisualicen y estudien los grupos que detectaron anteriormente. Para esto ustedes deben seguir los siguientes pasos:<br>\n",
    "    a.\tColoreen los nodos a partir de las comunidades detectadas.<br>\n",
    "    b.\tCambien el tamaño de los nodos a partir del grado de estos.<br>\n",
    "    c.\tApliquen la distribución “Force Atlas 2” y expandan el grafo para mejorar la visualización.<br>\n",
    "    d.\tMuestre el grafo resultante.<br>\n",
    "\n",
    "5.\tUna vez identificadas las comunidades en la red, identifiquen cuál de las comunidades es más fuerte y cuál más débil. Para esto ustedes deben:<br>\n",
    "    a.\tEncontrar cuál es la comunidad que tiene una mayor amistades.<br>\n",
    "    b.\tIdentificar cuál es el grupo con mayor densidad de relaciones de pases entre los jugadores.<br>\n"
   ]
  },
  {
   "cell_type": "markdown",
   "metadata": {},
   "source": [
    "#### Realice esta actividad enteramente en Python, y una vez terminen el estudio deberán presentar sus resultados en un informe autocontenido mostrado su desarrollo y análisis. Concluida la actividad, compriman en un zip su documento, el Notebook y el archivo de Gephi de soporte."
   ]
  }
 ],
 "metadata": {
  "kernelspec": {
   "display_name": "Python 3",
   "language": "python",
   "name": "python3"
  },
  "language_info": {
   "codemirror_mode": {
    "name": "ipython",
    "version": 3
   },
   "file_extension": ".py",
   "mimetype": "text/x-python",
   "name": "python",
   "nbconvert_exporter": "python",
   "pygments_lexer": "ipython3",
   "version": "3.7.6"
  }
 },
 "nbformat": 4,
 "nbformat_minor": 5
}
